{
  "nbformat": 4,
  "nbformat_minor": 0,
  "metadata": {
    "kernelspec": {
      "language": "python",
      "display_name": "Python 3",
      "name": "python3"
    },
    "language_info": {
      "name": "python",
      "version": "3.7.10",
      "mimetype": "text/x-python",
      "codemirror_mode": {
        "name": "ipython",
        "version": 3
      },
      "pygments_lexer": "ipython3",
      "nbconvert_exporter": "python",
      "file_extension": ".py"
    },
    "colab": {
      "name": "Arabic Poetry Metric Classification.ipynb",
      "provenance": [],
      "collapsed_sections": [],
      "include_colab_link": true
    }
  },
  "cells": [
    {
      "cell_type": "markdown",
      "metadata": {
        "id": "view-in-github",
        "colab_type": "text"
      },
      "source": [
        "<a href=\"https://colab.research.google.com/github/MaryamOsamaX/Arabic_Poetry_Metric_Classification/blob/master/Arabic_Poetry_Metric_Classification.ipynb\" target=\"_parent\"><img src=\"https://colab.research.google.com/assets/colab-badge.svg\" alt=\"Open In Colab\"/></a>"
      ]
    },
    {
      "cell_type": "code",
      "metadata": {
        "id": "sXnDmXR7RDr2"
      },
      "source": [
        "%tensorflow_version 2.x\n",
        "import tensorflow as tf\n",
        "device_name = tf.test.gpu_device_name()\n",
        "if device_name != '/device:GPU:0':\n",
        "  raise SystemError('GPU device not found')\n",
        "print('Found GPU at: {}'.format(device_name))"
      ],
      "execution_count": null,
      "outputs": []
    },
    {
      "cell_type": "code",
      "metadata": {
        "id": "-1tzq_wHMOfr"
      },
      "source": [
        "#!wget  -P /content/drive/MyDrive/data/ /content/sample_data/anscombe.json\n",
        "!gsutil -q -m cp /content/sample_data/anscombe.json /content/drive/MyDrive/data/\n"
      ],
      "execution_count": null,
      "outputs": []
    },
    {
      "cell_type": "code",
      "metadata": {
        "execution": {
          "iopub.status.busy": "2021-05-29T12:36:31.807736Z",
          "iopub.execute_input": "2021-05-29T12:36:31.808236Z",
          "iopub.status.idle": "2021-05-29T12:36:38.777460Z",
          "shell.execute_reply.started": "2021-05-29T12:36:31.808188Z",
          "shell.execute_reply": "2021-05-29T12:36:38.776587Z"
        },
        "trusted": true,
        "id": "jnpK3C_j1ehl"
      },
      "source": [
        "import numpy as np # linear algebra\n",
        "import pandas as pd # data processing, CSV file I/O (e.g. pd.read_csv)\n",
        "import seaborn as sns\n",
        "import matplotlib.pyplot as plt # ploting library\n",
        "import string\n",
        "import re\n",
        "%matplotlib inline\n",
        "import tensorflow as tf\n",
        "from keras.preprocessing.sequence import pad_sequences\n",
        "from tensorflow.keras.layers import GRU, Embedding, Dense, Input, Dropout, Bidirectional, BatchNormalization, Flatten, Reshape\n",
        "from tensorflow.keras.models import Sequential\n",
        "from keras.preprocessing.text import Tokenizer, text_to_word_sequence\n"
      ],
      "execution_count": null,
      "outputs": []
    },
    {
      "cell_type": "code",
      "metadata": {
        "colab": {
          "base_uri": "https://localhost:8080/"
        },
        "id": "lm_AqullBAL-",
        "outputId": "63bdb714-9cf2-4ce5-adf0-1c3cf1514c46"
      },
      "source": [
        "from google.colab import drive\n",
        "drive.mount('/content/drive')"
      ],
      "execution_count": null,
      "outputs": [
        {
          "output_type": "stream",
          "text": [
            "Mounted at /content/drive\n"
          ],
          "name": "stdout"
        }
      ]
    },
    {
      "cell_type": "code",
      "metadata": {
        "execution": {
          "iopub.status.busy": "2021-05-29T12:36:38.778839Z",
          "iopub.execute_input": "2021-05-29T12:36:38.779259Z",
          "iopub.status.idle": "2021-05-29T12:36:38.893917Z",
          "shell.execute_reply.started": "2021-05-29T12:36:38.779220Z",
          "shell.execute_reply": "2021-05-29T12:36:38.893142Z"
        },
        "trusted": true,
        "colab": {
          "base_uri": "https://localhost:8080/",
          "height": 195
        },
        "id": "JqZUJAiM1ehm",
        "outputId": "38f2ed5f-2f6a-4cfc-cbe9-8873218a0f87"
      },
      "source": [
        "df = pd.read_csv('/content/drive/MyDrive/data/train.csv')\n",
        "df.head()"
      ],
      "execution_count": null,
      "outputs": [
        {
          "output_type": "execute_result",
          "data": {
            "text/html": [
              "<div>\n",
              "<style scoped>\n",
              "    .dataframe tbody tr th:only-of-type {\n",
              "        vertical-align: middle;\n",
              "    }\n",
              "\n",
              "    .dataframe tbody tr th {\n",
              "        vertical-align: top;\n",
              "    }\n",
              "\n",
              "    .dataframe thead th {\n",
              "        text-align: right;\n",
              "    }\n",
              "</style>\n",
              "<table border=\"1\" class=\"dataframe\">\n",
              "  <thead>\n",
              "    <tr style=\"text-align: right;\">\n",
              "      <th></th>\n",
              "      <th>labels</th>\n",
              "      <th>data</th>\n",
              "    </tr>\n",
              "  </thead>\n",
              "  <tbody>\n",
              "    <tr>\n",
              "      <th>0</th>\n",
              "      <td>8</td>\n",
              "      <td>أَنا الفقير وباللَه العظيم غني # لئن فقدتك في ...</td>\n",
              "    </tr>\n",
              "    <tr>\n",
              "      <th>1</th>\n",
              "      <td>10</td>\n",
              "      <td>وَلوعاً بِيُمنَى نَمْنَمَتْها حَدِيقَةٌ # نَزْ...</td>\n",
              "    </tr>\n",
              "    <tr>\n",
              "      <th>2</th>\n",
              "      <td>11</td>\n",
              "      <td>فيا منْ لم أزلْ أحظى لديه # بفضلٍ جامعٍ بابَ ا...</td>\n",
              "    </tr>\n",
              "    <tr>\n",
              "      <th>3</th>\n",
              "      <td>9</td>\n",
              "      <td>وَسَلامٌ عَلَى ضَرِيحِكَ مَا أَهْ # دَتْ شَذَا...</td>\n",
              "    </tr>\n",
              "    <tr>\n",
              "      <th>4</th>\n",
              "      <td>8</td>\n",
              "      <td>أمِنْتُ فقري لما قُلتُ عن ثِقَةٍ # أنْ لا جواد...</td>\n",
              "    </tr>\n",
              "  </tbody>\n",
              "</table>\n",
              "</div>"
            ],
            "text/plain": [
              "   labels                                               data\n",
              "0       8  أَنا الفقير وباللَه العظيم غني # لئن فقدتك في ...\n",
              "1      10  وَلوعاً بِيُمنَى نَمْنَمَتْها حَدِيقَةٌ # نَزْ...\n",
              "2      11  فيا منْ لم أزلْ أحظى لديه # بفضلٍ جامعٍ بابَ ا...\n",
              "3       9  وَسَلامٌ عَلَى ضَرِيحِكَ مَا أَهْ # دَتْ شَذَا...\n",
              "4       8  أمِنْتُ فقري لما قُلتُ عن ثِقَةٍ # أنْ لا جواد..."
            ]
          },
          "metadata": {
            "tags": []
          },
          "execution_count": 11
        }
      ]
    },
    {
      "cell_type": "code",
      "metadata": {
        "execution": {
          "iopub.status.busy": "2021-05-29T12:36:38.895085Z",
          "iopub.execute_input": "2021-05-29T12:36:38.895495Z",
          "iopub.status.idle": "2021-05-29T12:36:38.916866Z",
          "shell.execute_reply.started": "2021-05-29T12:36:38.895466Z",
          "shell.execute_reply": "2021-05-29T12:36:38.916011Z"
        },
        "trusted": true,
        "colab": {
          "base_uri": "https://localhost:8080/"
        },
        "id": "lbzcVrEM1ehm",
        "outputId": "a5e8bd48-90da-41bf-e7ce-a3d8d1b67f6b"
      },
      "source": [
        "df.info()"
      ],
      "execution_count": null,
      "outputs": [
        {
          "output_type": "stream",
          "text": [
            "<class 'pandas.core.frame.DataFrame'>\n",
            "RangeIndex: 20000 entries, 0 to 19999\n",
            "Data columns (total 2 columns):\n",
            " #   Column  Non-Null Count  Dtype \n",
            "---  ------  --------------  ----- \n",
            " 0   labels  20000 non-null  int64 \n",
            " 1   data    20000 non-null  object\n",
            "dtypes: int64(1), object(1)\n",
            "memory usage: 312.6+ KB\n"
          ],
          "name": "stdout"
        }
      ]
    },
    {
      "cell_type": "code",
      "metadata": {
        "execution": {
          "iopub.status.busy": "2021-05-29T12:36:38.917947Z",
          "iopub.execute_input": "2021-05-29T12:36:38.918447Z",
          "iopub.status.idle": "2021-05-29T12:36:38.958005Z",
          "shell.execute_reply.started": "2021-05-29T12:36:38.918405Z",
          "shell.execute_reply": "2021-05-29T12:36:38.957053Z"
        },
        "trusted": true,
        "colab": {
          "base_uri": "https://localhost:8080/"
        },
        "id": "Hh1ZtQH71ehn",
        "outputId": "388be8d2-0bd7-4fec-f0d0-f6be217c659c"
      },
      "source": [
        "df.nunique()"
      ],
      "execution_count": null,
      "outputs": [
        {
          "output_type": "execute_result",
          "data": {
            "text/plain": [
              "labels       14\n",
              "data      19989\n",
              "dtype: int64"
            ]
          },
          "metadata": {
            "tags": []
          },
          "execution_count": 13
        }
      ]
    },
    {
      "cell_type": "code",
      "metadata": {
        "execution": {
          "iopub.status.busy": "2021-05-29T12:36:38.959145Z",
          "iopub.execute_input": "2021-05-29T12:36:38.959568Z",
          "iopub.status.idle": "2021-05-29T12:36:38.980066Z",
          "shell.execute_reply.started": "2021-05-29T12:36:38.959536Z",
          "shell.execute_reply": "2021-05-29T12:36:38.979006Z"
        },
        "trusted": true,
        "colab": {
          "base_uri": "https://localhost:8080/"
        },
        "id": "C4gt4ho81ehn",
        "outputId": "1bba61a2-59ab-4b90-f142-460ed462189d"
      },
      "source": [
        "df.duplicated().sum()"
      ],
      "execution_count": null,
      "outputs": [
        {
          "output_type": "execute_result",
          "data": {
            "text/plain": [
              "11"
            ]
          },
          "metadata": {
            "tags": []
          },
          "execution_count": 14
        }
      ]
    },
    {
      "cell_type": "code",
      "metadata": {
        "execution": {
          "iopub.status.busy": "2021-05-29T12:36:38.983450Z",
          "iopub.execute_input": "2021-05-29T12:36:38.983907Z",
          "iopub.status.idle": "2021-05-29T12:36:39.006023Z",
          "shell.execute_reply.started": "2021-05-29T12:36:38.983872Z",
          "shell.execute_reply": "2021-05-29T12:36:39.005249Z"
        },
        "trusted": true,
        "colab": {
          "base_uri": "https://localhost:8080/",
          "height": 373
        },
        "id": "2t9ndFNS1ehp",
        "outputId": "f4a32c53-5def-4816-85be-9915a5ea9898"
      },
      "source": [
        "df[df.duplicated()]"
      ],
      "execution_count": null,
      "outputs": [
        {
          "output_type": "execute_result",
          "data": {
            "text/html": [
              "<div>\n",
              "<style scoped>\n",
              "    .dataframe tbody tr th:only-of-type {\n",
              "        vertical-align: middle;\n",
              "    }\n",
              "\n",
              "    .dataframe tbody tr th {\n",
              "        vertical-align: top;\n",
              "    }\n",
              "\n",
              "    .dataframe thead th {\n",
              "        text-align: right;\n",
              "    }\n",
              "</style>\n",
              "<table border=\"1\" class=\"dataframe\">\n",
              "  <thead>\n",
              "    <tr style=\"text-align: right;\">\n",
              "      <th></th>\n",
              "      <th>labels</th>\n",
              "      <th>data</th>\n",
              "    </tr>\n",
              "  </thead>\n",
              "  <tbody>\n",
              "    <tr>\n",
              "      <th>7466</th>\n",
              "      <td>7</td>\n",
              "      <td>قَرّت الحالُ بِكُم في نِعَم # أنْطَقَتنِي بِال...</td>\n",
              "    </tr>\n",
              "    <tr>\n",
              "      <th>9104</th>\n",
              "      <td>11</td>\n",
              "      <td>وَمَا أَحَدٌ أَحَقَّ بأَخْذِ مَالٍ # مِنَ الأت...</td>\n",
              "    </tr>\n",
              "    <tr>\n",
              "      <th>10164</th>\n",
              "      <td>11</td>\n",
              "      <td>إذَا أُمَناؤُنَا قَبِلُوا الهَدَايا # وَصَارُو...</td>\n",
              "    </tr>\n",
              "    <tr>\n",
              "      <th>10417</th>\n",
              "      <td>5</td>\n",
              "      <td>مَنْ جَرَى فِي غَيْرِ حَلْبَتِهِ # كَانَ مَوْق...</td>\n",
              "    </tr>\n",
              "    <tr>\n",
              "      <th>11456</th>\n",
              "      <td>10</td>\n",
              "      <td>ومَنْ رامَ يحيى كَعْبَةً لِطَوافِه # غدا لا يُ...</td>\n",
              "    </tr>\n",
              "    <tr>\n",
              "      <th>11548</th>\n",
              "      <td>7</td>\n",
              "      <td>وَاقْتَدَى الرُّهْبَانُ فِي نُدْبَتِهِ # بِلَب...</td>\n",
              "    </tr>\n",
              "    <tr>\n",
              "      <th>18552</th>\n",
              "      <td>10</td>\n",
              "      <td>تَقَبّل آثارَ الخَليفَة مُسلِفا # بِها قُرباً ...</td>\n",
              "    </tr>\n",
              "    <tr>\n",
              "      <th>19334</th>\n",
              "      <td>10</td>\n",
              "      <td>وَقَد كُنتُ أَشكو عَتبَها وَعِتابَها # فَقَد ف...</td>\n",
              "    </tr>\n",
              "    <tr>\n",
              "      <th>19617</th>\n",
              "      <td>0</td>\n",
              "      <td>سائِل بَني الأَشعَرِ إِن جِئتَهُم # ما كانَ أَ...</td>\n",
              "    </tr>\n",
              "    <tr>\n",
              "      <th>19862</th>\n",
              "      <td>7</td>\n",
              "      <td>صَرَخَ النّاقوسُ يَبكِي يَوْمَهُ # لِتَنَاهِي ...</td>\n",
              "    </tr>\n",
              "    <tr>\n",
              "      <th>19929</th>\n",
              "      <td>7</td>\n",
              "      <td>غَرّه البُعدُ وعن قرْبٍ يَرى # جِزْيةَ الكُفْر...</td>\n",
              "    </tr>\n",
              "  </tbody>\n",
              "</table>\n",
              "</div>"
            ],
            "text/plain": [
              "       labels                                               data\n",
              "7466        7  قَرّت الحالُ بِكُم في نِعَم # أنْطَقَتنِي بِال...\n",
              "9104       11  وَمَا أَحَدٌ أَحَقَّ بأَخْذِ مَالٍ # مِنَ الأت...\n",
              "10164      11  إذَا أُمَناؤُنَا قَبِلُوا الهَدَايا # وَصَارُو...\n",
              "10417       5  مَنْ جَرَى فِي غَيْرِ حَلْبَتِهِ # كَانَ مَوْق...\n",
              "11456      10  ومَنْ رامَ يحيى كَعْبَةً لِطَوافِه # غدا لا يُ...\n",
              "11548       7  وَاقْتَدَى الرُّهْبَانُ فِي نُدْبَتِهِ # بِلَب...\n",
              "18552      10  تَقَبّل آثارَ الخَليفَة مُسلِفا # بِها قُرباً ...\n",
              "19334      10  وَقَد كُنتُ أَشكو عَتبَها وَعِتابَها # فَقَد ف...\n",
              "19617       0  سائِل بَني الأَشعَرِ إِن جِئتَهُم # ما كانَ أَ...\n",
              "19862       7  صَرَخَ النّاقوسُ يَبكِي يَوْمَهُ # لِتَنَاهِي ...\n",
              "19929       7  غَرّه البُعدُ وعن قرْبٍ يَرى # جِزْيةَ الكُفْر..."
            ]
          },
          "metadata": {
            "tags": []
          },
          "execution_count": 15
        }
      ]
    },
    {
      "cell_type": "code",
      "metadata": {
        "execution": {
          "iopub.status.busy": "2021-05-29T12:36:39.007709Z",
          "iopub.execute_input": "2021-05-29T12:36:39.008021Z",
          "iopub.status.idle": "2021-05-29T12:36:39.025727Z",
          "shell.execute_reply.started": "2021-05-29T12:36:39.007993Z",
          "shell.execute_reply": "2021-05-29T12:36:39.024767Z"
        },
        "trusted": true,
        "colab": {
          "base_uri": "https://localhost:8080/"
        },
        "id": "G9xPFE8m1ehq",
        "outputId": "5888be2c-4f00-43b3-b7bf-9a679d6898b9"
      },
      "source": [
        "for i in df[df.duplicated()]['data']:\n",
        "    print(i)"
      ],
      "execution_count": null,
      "outputs": [
        {
          "output_type": "stream",
          "text": [
            "قَرّت الحالُ بِكُم في نِعَم # أنْطَقَتنِي بِالقَوافِي الشردِ\n",
            "وَمَا أَحَدٌ أَحَقَّ بأَخْذِ مَالٍ # مِنَ الأتْرَاكِ وَالمُتَجَنِّدِينا\n",
            "إذَا أُمَناؤُنَا قَبِلُوا الهَدَايا # وَصَارُوا يَتْجَرُونَ وَيَزْرَعُونا\n",
            "مَنْ جَرَى فِي غَيْرِ حَلْبَتِهِ # كَانَ مَوْقُوفَاً عَلَى الظِّنَنِ\n",
            "ومَنْ رامَ يحيى كَعْبَةً لِطَوافِه # غدا لا يُهابُ الهَضْم في ذَرْوَة الهَضْبِ\n",
            "وَاقْتَدَى الرُّهْبَانُ فِي نُدْبَتِهِ # بِلَبيد في أَخيهِ أرْبَدِ\n",
            "تَقَبّل آثارَ الخَليفَة مُسلِفا # بِها قُرباً تحْظى من اللّهِ بالقُرْبِ\n",
            "وَقَد كُنتُ أَشكو عَتبَها وَعِتابَها # فَقَد فَجَعَتني بِالعِتابِ وَبِالعَتبِ\n",
            "سائِل بَني الأَشعَرِ إِن جِئتَهُم # ما كانَ أَنباءُ أَبي واسِعِ\n",
            "صَرَخَ النّاقوسُ يَبكِي يَوْمَهُ # لِتَنَاهِي عُدَدٍ أوْ عَدَدِ\n",
            "غَرّه البُعدُ وعن قرْبٍ يَرى # جِزْيةَ الكُفْرِ تُؤَدَّى عَن يَدِ\n"
          ],
          "name": "stdout"
        }
      ]
    },
    {
      "cell_type": "code",
      "metadata": {
        "execution": {
          "iopub.status.busy": "2021-05-29T12:36:39.027164Z",
          "iopub.execute_input": "2021-05-29T12:36:39.027481Z",
          "iopub.status.idle": "2021-05-29T12:36:39.347397Z",
          "shell.execute_reply.started": "2021-05-29T12:36:39.027450Z",
          "shell.execute_reply": "2021-05-29T12:36:39.346337Z"
        },
        "trusted": true,
        "colab": {
          "base_uri": "https://localhost:8080/",
          "height": 635
        },
        "id": "4uHojbl31ehq",
        "outputId": "24996b95-d205-4252-93b7-ef335f22905f"
      },
      "source": [
        "plt.figure(figsize=(15,10))\n",
        "counts=df['labels'].value_counts()\n",
        "\n",
        "base_color = sns.color_palette()[0]\n",
        "sns.countplot(data=df, x='labels', color=base_color,linewidth=100);\n",
        "plt.ylabel('Count',fontsize = 14)\n",
        "plt.xlabel('labels',fontsize = 14)\n",
        "plt.title('Most Frequent labels',fontsize = 20)\n",
        "plt.yticks(size=12); \n",
        "totale = len(df)\n",
        "locs, labels = plt.xticks(size=14); \n",
        "for loc, label in zip(locs, labels):\n",
        "    count = counts[int(label.get_text())]\n",
        "    pct_string = '{:0.1f}%'.format(100*count/totale)\n",
        "    plt.text(loc, count-100, pct_string, ha = 'center', color = 'white',fontsize = 12)"
      ],
      "execution_count": null,
      "outputs": [
        {
          "output_type": "display_data",
          "data": {
            "image/png": "[encoded data removed]",
            "text/plain": [
              "<Figure size 1080x720 with 1 Axes>"
            ]
          },
          "metadata": {
            "tags": [],
            "needs_background": "light"
          }
        }
      ]
    },
    {
      "cell_type": "code",
      "metadata": {
        "execution": {
          "iopub.status.busy": "2021-05-29T12:36:39.349014Z",
          "iopub.execute_input": "2021-05-29T12:36:39.349420Z",
          "iopub.status.idle": "2021-05-29T12:36:39.361727Z",
          "shell.execute_reply.started": "2021-05-29T12:36:39.349378Z",
          "shell.execute_reply": "2021-05-29T12:36:39.360551Z"
        },
        "trusted": true,
        "id": "edGiLjqY1ehr"
      },
      "source": [
        "def remove_punc(s):\n",
        "    punctuations = '''`÷×؛ʿˇ<>()*&^%]‚[،/:ღ\"┈؟.,'{}~¦+ ، 》《|﴾»«﴿!”…“–❒ـ۞✦✩☜ ̷ ﮼☻󾌴❥*،“¸.•°``°•.`•.¸.•♫♡—''' + string.punctuation\n",
        "    punctuations = ''.join(set(punctuations)-{'ـ','#'})\n",
        "    for c in punctuations:\n",
        "        s=s.replace(c,\" \")\n",
        "    return s\n",
        "\n",
        "\n",
        "def clean_text(text):\n",
        "    arabic_diacritics = re.compile(\"\"\" ّ| َ| ً| ُ| ٌ| ِ| ٍ| ْ| ۖ| ۠| ۘ| ۙ| ۚ| ۛ| ۜ| ۗ| ۡ| ۟| ۤ|ۥ| ۧ\"\"\", re.VERBOSE)\n",
        "    #text = extract_arabic(text)\n",
        "    weridPatterns = re.compile(\"[\"\n",
        "                               u\"\\U0001F600-\\U0001F64F\"  # emoticons\n",
        "                               u\"\\U0001F300-\\U0001F5FF\"  # symbols & pictographs\n",
        "                               u\"\\U0001F680-\\U0001F6FF\"  # transport & map symbols\n",
        "                               u\"\\U0001F1E0-\\U0001F1FF\"  # flags (iOS)\n",
        "                               u\"\\U00002702-\\U000027B0\"\n",
        "                               u\"\\U000024C2-\\U0001F251\"\n",
        "                               u\"\\U0001f926-\\U0001f937\"\n",
        "                               u'\\U00010000-\\U0010ffff'\n",
        "                               u\"\\u200d\"\n",
        "                               u\"\\u2640-\\u2642\"\n",
        "                               u\"\\u2600-\\u2B55\"\n",
        "                               u\"\\u23cf\"\n",
        "                               u\"\\u23e9\"\n",
        "                               u\"\\u231a\"\n",
        "                               u\"\\u3030\"\n",
        "                               u\"\\ufe0f\"\n",
        "                               u\"\\u2069\"\n",
        "                               u\"\\u2066\"\n",
        "                               u\"\\u200c\"\n",
        "                               u\"\\u2068\"\n",
        "                               u\"\\u2067\"\n",
        "                               \"]+\", flags=re.UNICODE)\n",
        "    #text = text.translate(str.maketrans(' ', '  ', punctuations))\n",
        "    text = remove_punc(text)\n",
        "    text = re.compile(r'[a-zA-Z\\u0590-\\u05FF\\u200f\\u200eÀ-ÿ-. ǻħḿєığīā]').sub(' ', text)\n",
        "    text = weridPatterns.sub(' ', text)\n",
        "    #text = re.sub(arabic_diacritics, '', text)\n",
        "    text = re.sub('\\d+', ' ', text)\n",
        "    text = re.sub('ﷺ', 'صلى الله عليه وسلم', text)\n",
        "    text = re.sub('_', ' ', text)\n",
        "    text = re.sub('ـ', '', text)                           \n",
        "    text = re.sub('،', ' ', text)\n",
        "    text = re.sub('URL', '', text)\n",
        "    text = re.sub('USER', '', text)\n",
        "    text = re.compile(r'(.)\\1{2,}', re.IGNORECASE).sub(r'\\1', text)\n",
        "    text = re.sub('\\s+', ' ', text)\n",
        "    return text"
      ],
      "execution_count": null,
      "outputs": []
    },
    {
      "cell_type": "code",
      "metadata": {
        "execution": {
          "iopub.status.busy": "2021-05-29T12:36:39.362930Z",
          "iopub.execute_input": "2021-05-29T12:36:39.363215Z",
          "iopub.status.idle": "2021-05-29T12:36:40.890161Z",
          "shell.execute_reply.started": "2021-05-29T12:36:39.363186Z",
          "shell.execute_reply": "2021-05-29T12:36:40.889094Z"
        },
        "trusted": true,
        "id": "WxpaApNN1eht"
      },
      "source": [
        "df['clean_data']=df['data'].apply(clean_text)"
      ],
      "execution_count": null,
      "outputs": []
    },
    {
      "cell_type": "code",
      "metadata": {
        "execution": {
          "iopub.status.busy": "2021-05-29T12:36:40.891570Z",
          "iopub.execute_input": "2021-05-29T12:36:40.892196Z",
          "iopub.status.idle": "2021-05-29T12:36:40.901345Z",
          "shell.execute_reply.started": "2021-05-29T12:36:40.892137Z",
          "shell.execute_reply": "2021-05-29T12:36:40.900252Z"
        },
        "trusted": true,
        "colab": {
          "base_uri": "https://localhost:8080/"
        },
        "id": "rYk2E_Cl1eht",
        "outputId": "8be00f2f-0bc1-44c9-8936-0bcf1d39f146"
      },
      "source": [
        "df['clean_data']"
      ],
      "execution_count": null,
      "outputs": [
        {
          "output_type": "execute_result",
          "data": {
            "text/plain": [
              "0        أَنا الفقير وباللَه العظيم غني # لئن فقدتك في ...\n",
              "1        وَلوعاً بِيُمنَى نَمْنَمَتْها حَدِيقَةٌ # نَزْ...\n",
              "2        فيا منْ لم أزلْ أحظى لديه # بفضلٍ جامعٍ بابَ ا...\n",
              "3        وَسَلامٌ عَلَى ضَرِيحِكَ مَا أَهْ # دَتْ شَذَا...\n",
              "4        أمِنْتُ فقري لما قُلتُ عن ثِقَةٍ # أنْ لا جواد...\n",
              "                               ...                        \n",
              "19995    ولا برِحَ الزمانُ به ربيعاً # يطرّزُ زَهرُهُ ح...\n",
              "19996    يَوْمَ لاَ يَجْزِي وَالِدٌ عَنْ وَلِيدٍ # لاَ ...\n",
              "19997    فَليُرِنا الوَردُ إِن شَكا يَدَهُ # أَحسَنَ مِ...\n",
              "19998    وَالمرَءُ كَالبائِعُ في سوقِهِ # يَأخُذُ ما يُ...\n",
              "19999    وتوالَتْ بُشْرَى الهواتفِ أن قدْ # وُلِدَ المص...\n",
              "Name: clean_data, Length: 20000, dtype: object"
            ]
          },
          "metadata": {
            "tags": []
          },
          "execution_count": 20
        }
      ]
    },
    {
      "cell_type": "code",
      "metadata": {
        "execution": {
          "iopub.status.busy": "2021-05-29T12:36:40.902830Z",
          "iopub.execute_input": "2021-05-29T12:36:40.903237Z",
          "iopub.status.idle": "2021-05-29T12:36:40.927345Z",
          "shell.execute_reply.started": "2021-05-29T12:36:40.903198Z",
          "shell.execute_reply": "2021-05-29T12:36:40.926016Z"
        },
        "trusted": true,
        "colab": {
          "base_uri": "https://localhost:8080/",
          "height": 195
        },
        "id": "XzmdAQQx1ehu",
        "outputId": "de45ac0e-d128-4783-f5df-4ed3ac7813cb"
      },
      "source": [
        "df.head()"
      ],
      "execution_count": null,
      "outputs": [
        {
          "output_type": "execute_result",
          "data": {
            "text/html": [
              "<div>\n",
              "<style scoped>\n",
              "    .dataframe tbody tr th:only-of-type {\n",
              "        vertical-align: middle;\n",
              "    }\n",
              "\n",
              "    .dataframe tbody tr th {\n",
              "        vertical-align: top;\n",
              "    }\n",
              "\n",
              "    .dataframe thead th {\n",
              "        text-align: right;\n",
              "    }\n",
              "</style>\n",
              "<table border=\"1\" class=\"dataframe\">\n",
              "  <thead>\n",
              "    <tr style=\"text-align: right;\">\n",
              "      <th></th>\n",
              "      <th>labels</th>\n",
              "      <th>data</th>\n",
              "      <th>clean_data</th>\n",
              "    </tr>\n",
              "  </thead>\n",
              "  <tbody>\n",
              "    <tr>\n",
              "      <th>0</th>\n",
              "      <td>8</td>\n",
              "      <td>أَنا الفقير وباللَه العظيم غني # لئن فقدتك في ...</td>\n",
              "      <td>أَنا الفقير وباللَه العظيم غني # لئن فقدتك في ...</td>\n",
              "    </tr>\n",
              "    <tr>\n",
              "      <th>1</th>\n",
              "      <td>10</td>\n",
              "      <td>وَلوعاً بِيُمنَى نَمْنَمَتْها حَدِيقَةٌ # نَزْ...</td>\n",
              "      <td>وَلوعاً بِيُمنَى نَمْنَمَتْها حَدِيقَةٌ # نَزْ...</td>\n",
              "    </tr>\n",
              "    <tr>\n",
              "      <th>2</th>\n",
              "      <td>11</td>\n",
              "      <td>فيا منْ لم أزلْ أحظى لديه # بفضلٍ جامعٍ بابَ ا...</td>\n",
              "      <td>فيا منْ لم أزلْ أحظى لديه # بفضلٍ جامعٍ بابَ ا...</td>\n",
              "    </tr>\n",
              "    <tr>\n",
              "      <th>3</th>\n",
              "      <td>9</td>\n",
              "      <td>وَسَلامٌ عَلَى ضَرِيحِكَ مَا أَهْ # دَتْ شَذَا...</td>\n",
              "      <td>وَسَلامٌ عَلَى ضَرِيحِكَ مَا أَهْ # دَتْ شَذَا...</td>\n",
              "    </tr>\n",
              "    <tr>\n",
              "      <th>4</th>\n",
              "      <td>8</td>\n",
              "      <td>أمِنْتُ فقري لما قُلتُ عن ثِقَةٍ # أنْ لا جواد...</td>\n",
              "      <td>أمِنْتُ فقري لما قُلتُ عن ثِقَةٍ # أنْ لا جواد...</td>\n",
              "    </tr>\n",
              "  </tbody>\n",
              "</table>\n",
              "</div>"
            ],
            "text/plain": [
              "   labels  ...                                         clean_data\n",
              "0       8  ...  أَنا الفقير وباللَه العظيم غني # لئن فقدتك في ...\n",
              "1      10  ...  وَلوعاً بِيُمنَى نَمْنَمَتْها حَدِيقَةٌ # نَزْ...\n",
              "2      11  ...  فيا منْ لم أزلْ أحظى لديه # بفضلٍ جامعٍ بابَ ا...\n",
              "3       9  ...  وَسَلامٌ عَلَى ضَرِيحِكَ مَا أَهْ # دَتْ شَذَا...\n",
              "4       8  ...  أمِنْتُ فقري لما قُلتُ عن ثِقَةٍ # أنْ لا جواد...\n",
              "\n",
              "[5 rows x 3 columns]"
            ]
          },
          "metadata": {
            "tags": []
          },
          "execution_count": 21
        }
      ]
    },
    {
      "cell_type": "code",
      "metadata": {
        "execution": {
          "iopub.status.busy": "2021-05-29T12:36:40.929166Z",
          "iopub.execute_input": "2021-05-29T12:36:40.929828Z",
          "iopub.status.idle": "2021-05-29T12:36:41.018818Z",
          "shell.execute_reply.started": "2021-05-29T12:36:40.929780Z",
          "shell.execute_reply": "2021-05-29T12:36:41.017559Z"
        },
        "trusted": true,
        "id": "fcuATYJn1ehv"
      },
      "source": [
        "vocab = sorted(set(' '.join(df['clean_data'])))"
      ],
      "execution_count": null,
      "outputs": []
    },
    {
      "cell_type": "code",
      "metadata": {
        "colab": {
          "base_uri": "https://localhost:8080/"
        },
        "id": "INY6wdpa2nC8",
        "outputId": "f6dda82b-2da4-4140-d28e-ef13d07ac98e"
      },
      "source": [
        "vocab"
      ],
      "execution_count": null,
      "outputs": [
        {
          "output_type": "execute_result",
          "data": {
            "text/plain": [
              "[' ',\n",
              " '#',\n",
              " 'ء',\n",
              " 'آ',\n",
              " 'أ',\n",
              " 'ؤ',\n",
              " 'إ',\n",
              " 'ئ',\n",
              " 'ا',\n",
              " 'ب',\n",
              " 'ة',\n",
              " 'ت',\n",
              " 'ث',\n",
              " 'ج',\n",
              " 'ح',\n",
              " 'خ',\n",
              " 'د',\n",
              " 'ذ',\n",
              " 'ر',\n",
              " 'ز',\n",
              " 'س',\n",
              " 'ش',\n",
              " 'ص',\n",
              " 'ض',\n",
              " 'ط',\n",
              " 'ظ',\n",
              " 'ع',\n",
              " 'غ',\n",
              " 'ف',\n",
              " 'ق',\n",
              " 'ك',\n",
              " 'ل',\n",
              " 'م',\n",
              " 'ن',\n",
              " 'ه',\n",
              " 'و',\n",
              " 'ى',\n",
              " 'ي',\n",
              " 'ً',\n",
              " 'ٌ',\n",
              " 'ٍ',\n",
              " 'َ',\n",
              " 'ُ',\n",
              " 'ِ',\n",
              " 'ّ',\n",
              " 'ْ']"
            ]
          },
          "metadata": {
            "tags": []
          },
          "execution_count": 23
        }
      ]
    },
    {
      "cell_type": "code",
      "metadata": {
        "execution": {
          "iopub.status.busy": "2021-05-29T12:36:41.020620Z",
          "iopub.execute_input": "2021-05-29T12:36:41.021395Z",
          "iopub.status.idle": "2021-05-29T12:36:41.035992Z",
          "shell.execute_reply.started": "2021-05-29T12:36:41.021344Z",
          "shell.execute_reply": "2021-05-29T12:36:41.034762Z"
        },
        "trusted": true,
        "id": "GYQFs4N11ehw"
      },
      "source": [
        "char2idx = {u:i+1 for i, u in enumerate(vocab)}\n",
        "\n",
        "def to_sequences(X):\n",
        "    X = [[char2idx[char] for char in line] for line in X]\n",
        "    X = pad_sequences(X, padding='post', value=0, maxlen = 100)\n",
        "    return X\n"
      ],
      "execution_count": null,
      "outputs": []
    },
    {
      "cell_type": "code",
      "metadata": {
        "execution": {
          "iopub.status.busy": "2021-05-29T12:36:41.037539Z",
          "iopub.execute_input": "2021-05-29T12:36:41.038033Z",
          "iopub.status.idle": "2021-05-29T12:36:41.690727Z",
          "shell.execute_reply.started": "2021-05-29T12:36:41.037994Z",
          "shell.execute_reply": "2021-05-29T12:36:41.689850Z"
        },
        "trusted": true,
        "id": "ThmmneGe1ehw"
      },
      "source": [
        "X_train = to_sequences(df['clean_data'])\n",
        "y_train = df['labels']"
      ],
      "execution_count": null,
      "outputs": []
    },
    {
      "cell_type": "code",
      "metadata": {
        "execution": {
          "iopub.status.busy": "2021-05-29T15:49:08.548487Z",
          "iopub.execute_input": "2021-05-29T15:49:08.548958Z",
          "iopub.status.idle": "2021-05-29T15:49:08.556419Z",
          "shell.execute_reply.started": "2021-05-29T15:49:08.548919Z",
          "shell.execute_reply": "2021-05-29T15:49:08.555281Z"
        },
        "trusted": true,
        "colab": {
          "base_uri": "https://localhost:8080/"
        },
        "id": "cDzc0AUJ1ehx",
        "outputId": "d046c90f-bf1e-4d98-f625-8bc4f789c1cc"
      },
      "source": [
        "X_train"
      ],
      "execution_count": null,
      "outputs": [
        {
          "output_type": "execute_result",
          "data": {
            "text/plain": [
              "array([[ 5, 42, 34, ...,  0,  0,  0],\n",
              "       [36, 42, 32, ...,  0,  0,  0],\n",
              "       [29, 38,  9, ...,  0,  0,  0],\n",
              "       ...,\n",
              "       [29, 42, 32, ...,  0,  0,  0],\n",
              "       [36, 42,  9, ...,  0,  0,  0],\n",
              "       [36, 12, 36, ...,  0,  0,  0]], dtype=int32)"
            ]
          },
          "metadata": {
            "tags": []
          },
          "execution_count": 26
        }
      ]
    },
    {
      "cell_type": "code",
      "metadata": {
        "execution": {
          "iopub.status.busy": "2021-05-29T12:36:41.691901Z",
          "iopub.execute_input": "2021-05-29T12:36:41.692379Z",
          "iopub.status.idle": "2021-05-29T12:36:42.340257Z",
          "shell.execute_reply.started": "2021-05-29T12:36:41.692330Z",
          "shell.execute_reply": "2021-05-29T12:36:42.339281Z"
        },
        "trusted": true,
        "colab": {
          "base_uri": "https://localhost:8080/"
        },
        "id": "cMHE_UPg1ehy",
        "outputId": "c7535f91-7356-42c3-dff2-f24967c8b6a3"
      },
      "source": [
        "from imblearn.over_sampling import RandomOverSampler\n",
        "oversample = RandomOverSampler()\n",
        "# fit and apply the transform\n",
        "X_over, y_over = oversample.fit_resample(X_train, y_train)"
      ],
      "execution_count": null,
      "outputs": [
        {
          "output_type": "stream",
          "text": [
            "/usr/local/lib/python3.7/dist-packages/sklearn/externals/six.py:31: FutureWarning: The module is deprecated in version 0.21 and will be removed in version 0.23 since we've dropped support for Python 2.7. Please rely on the official version of six (https://pypi.org/project/six/).\n",
            "  \"(https://pypi.org/project/six/).\", FutureWarning)\n",
            "/usr/local/lib/python3.7/dist-packages/sklearn/utils/deprecation.py:144: FutureWarning: The sklearn.neighbors.base module is  deprecated in version 0.22 and will be removed in version 0.24. The corresponding classes / functions should instead be imported from sklearn.neighbors. Anything that cannot be imported from sklearn.neighbors is now part of the private API.\n",
            "  warnings.warn(message, FutureWarning)\n",
            "/usr/local/lib/python3.7/dist-packages/sklearn/utils/deprecation.py:87: FutureWarning: Function safe_indexing is deprecated; safe_indexing is deprecated in version 0.22 and will be removed in version 0.24.\n",
            "  warnings.warn(msg, category=FutureWarning)\n"
          ],
          "name": "stderr"
        }
      ]
    },
    {
      "cell_type": "code",
      "metadata": {
        "execution": {
          "iopub.status.busy": "2021-05-29T12:36:42.341407Z",
          "iopub.execute_input": "2021-05-29T12:36:42.341705Z",
          "iopub.status.idle": "2021-05-29T12:36:42.353464Z",
          "shell.execute_reply.started": "2021-05-29T12:36:42.341677Z",
          "shell.execute_reply": "2021-05-29T12:36:42.352652Z"
        },
        "trusted": true,
        "colab": {
          "base_uri": "https://localhost:8080/"
        },
        "id": "uTYGLDF01ehz",
        "outputId": "c40ebfc5-60f3-4cff-ce7a-19058b9e3a27"
      },
      "source": [
        "from collections import Counter\n",
        "Counter(y_over)"
      ],
      "execution_count": null,
      "outputs": [
        {
          "output_type": "execute_result",
          "data": {
            "text/plain": [
              "Counter({0: 2016,\n",
              "         1: 2016,\n",
              "         2: 2016,\n",
              "         3: 2016,\n",
              "         4: 2016,\n",
              "         5: 2016,\n",
              "         6: 2016,\n",
              "         7: 2016,\n",
              "         8: 2016,\n",
              "         9: 2016,\n",
              "         10: 2016,\n",
              "         11: 2016,\n",
              "         12: 2016,\n",
              "         13: 2016})"
            ]
          },
          "metadata": {
            "tags": []
          },
          "execution_count": 28
        }
      ]
    },
    {
      "cell_type": "code",
      "metadata": {
        "execution": {
          "iopub.status.busy": "2021-05-29T12:36:42.356196Z",
          "iopub.execute_input": "2021-05-29T12:36:42.356658Z",
          "iopub.status.idle": "2021-05-29T12:36:43.940433Z",
          "shell.execute_reply.started": "2021-05-29T12:36:42.356614Z",
          "shell.execute_reply": "2021-05-29T12:36:43.939473Z"
        },
        "trusted": true,
        "colab": {
          "base_uri": "https://localhost:8080/"
        },
        "id": "98MY-Whb1ehz",
        "outputId": "cba33f1c-01ca-4cbd-add0-0adf0791fc2b"
      },
      "source": [
        "model = Sequential()\n",
        "model.add(Input((100,)))\n",
        "model.add(Embedding(len(char2idx)+1, 256))\n",
        "model.add(Bidirectional(GRU(units = 256, return_sequences=True)))\n",
        "model.add(Bidirectional(GRU(units = 256, return_sequences=True)))\n",
        "model.add(Bidirectional(GRU(units = 256)))\n",
        "model.add(Dense(128, activation = 'relu'))\n",
        "model.add(Dropout(0.3))\n",
        "model.add(Dense(14, activation = 'softmax'))\n",
        "model.compile(optimizer = 'adam', loss = 'sparse_categorical_crossentropy', metrics = ['accuracy'])"
      ],
      "execution_count": null,
      "outputs": [
        {
          "output_type": "stream",
          "text": [
            "WARNING:tensorflow:Please add `keras.layers.InputLayer` instead of `keras.Input` to Sequential model. `keras.Input` is intended to be used by Functional model.\n"
          ],
          "name": "stdout"
        },
        {
          "output_type": "stream",
          "text": [
            "WARNING:tensorflow:Please add `keras.layers.InputLayer` instead of `keras.Input` to Sequential model. `keras.Input` is intended to be used by Functional model.\n"
          ],
          "name": "stderr"
        }
      ]
    },
    {
      "cell_type": "code",
      "metadata": {
        "execution": {
          "iopub.status.busy": "2021-05-29T12:36:43.942432Z",
          "iopub.execute_input": "2021-05-29T12:36:43.942876Z",
          "iopub.status.idle": "2021-05-29T12:36:43.953910Z",
          "shell.execute_reply.started": "2021-05-29T12:36:43.942829Z",
          "shell.execute_reply": "2021-05-29T12:36:43.952775Z"
        },
        "trusted": true,
        "colab": {
          "base_uri": "https://localhost:8080/"
        },
        "id": "GIzfWN3c1eh0",
        "outputId": "28ebf79f-88b0-464d-b7f7-6a0bda33d6cf"
      },
      "source": [
        "model.summary()\n"
      ],
      "execution_count": null,
      "outputs": [
        {
          "output_type": "stream",
          "text": [
            "Model: \"sequential_1\"\n",
            "_________________________________________________________________\n",
            "Layer (type)                 Output Shape              Param #   \n",
            "=================================================================\n",
            "embedding_1 (Embedding)      (None, 100, 256)          12032     \n",
            "_________________________________________________________________\n",
            "bidirectional_3 (Bidirection (None, 100, 512)          789504    \n",
            "_________________________________________________________________\n",
            "bidirectional_4 (Bidirection (None, 100, 512)          1182720   \n",
            "_________________________________________________________________\n",
            "bidirectional_5 (Bidirection (None, 512)               1182720   \n",
            "_________________________________________________________________\n",
            "dense_2 (Dense)              (None, 128)               65664     \n",
            "_________________________________________________________________\n",
            "dense_3 (Dense)              (None, 14)                1806      \n",
            "=================================================================\n",
            "Total params: 3,234,446\n",
            "Trainable params: 3,234,446\n",
            "Non-trainable params: 0\n",
            "_________________________________________________________________\n"
          ],
          "name": "stdout"
        }
      ]
    },
    {
      "cell_type": "code",
      "metadata": {
        "execution": {
          "iopub.status.busy": "2021-05-29T12:36:43.955504Z",
          "iopub.execute_input": "2021-05-29T12:36:43.956050Z",
          "iopub.status.idle": "2021-05-29T12:36:44.913460Z",
          "shell.execute_reply.started": "2021-05-29T12:36:43.956016Z",
          "shell.execute_reply": "2021-05-29T12:36:44.912294Z"
        },
        "trusted": true,
        "colab": {
          "base_uri": "https://localhost:8080/"
        },
        "id": "e0g4sXX81eh1",
        "outputId": "ad11af80-433c-46e7-e611-44b28ddb82d9"
      },
      "source": [
        "model(tf.zeros((10, 100))).shape"
      ],
      "execution_count": null,
      "outputs": [
        {
          "output_type": "execute_result",
          "data": {
            "text/plain": [
              "TensorShape([10, 14])"
            ]
          },
          "metadata": {
            "tags": []
          },
          "execution_count": 48
        }
      ]
    },
    {
      "cell_type": "code",
      "metadata": {
        "execution": {
          "iopub.status.busy": "2021-05-29T12:36:44.914687Z",
          "iopub.execute_input": "2021-05-29T12:36:44.915238Z",
          "iopub.status.idle": "2021-05-29T12:36:44.920268Z",
          "shell.execute_reply.started": "2021-05-29T12:36:44.915205Z",
          "shell.execute_reply": "2021-05-29T12:36:44.919500Z"
        },
        "trusted": true,
        "id": "PkvjvHqS1eh1"
      },
      "source": [
        "callbacks = [tf.keras.callbacks.ReduceLROnPlateau(monitor='val_loss', factor=0.1, patience=2, min_delta=0.0001, min_lr=0.0001)]\n",
        "callbacks += [tf.keras.callbacks.ModelCheckpoint('full_verse.h5', monitor='val_accuracy', verbose=1, save_best_only=True, mode='max')]"
      ],
      "execution_count": null,
      "outputs": []
    },
    {
      "cell_type": "code",
      "metadata": {
        "id": "qs1fxytoO5Xu"
      },
      "source": [
        "model = tf.keras.models.load_model('/content/drive/MyDrive/data/saved_model/my_model')\n",
        "\n",
        "# Check its architecture\n",
        "#new_model.summary()"
      ],
      "execution_count": null,
      "outputs": []
    },
    {
      "cell_type": "code",
      "metadata": {
        "execution": {
          "iopub.status.busy": "2021-05-29T12:36:44.921358Z",
          "iopub.execute_input": "2021-05-29T12:36:44.921839Z",
          "iopub.status.idle": "2021-05-29T15:25:07.250544Z",
          "shell.execute_reply.started": "2021-05-29T12:36:44.921805Z",
          "shell.execute_reply": "2021-05-29T15:25:07.249517Z"
        },
        "trusted": true,
        "colab": {
          "base_uri": "https://localhost:8080/"
        },
        "id": "WZ9c1-1I1eh2",
        "outputId": "3d8db4dd-807c-449c-d838-f8f39baef65a"
      },
      "source": [
        "model.fit(X_train, y_train, epochs = 15, batch_size= 128, shuffle = True, callbacks=callbacks)"
      ],
      "execution_count": null,
      "outputs": [
        {
          "output_type": "stream",
          "text": [
            "Epoch 1/15\n",
            "157/157 [==============================] - 25s 114ms/step - loss: 0.0736 - accuracy: 0.9765\n",
            "WARNING:tensorflow:Learning rate reduction is conditioned on metric `val_loss` which is not available. Available metrics are: loss,accuracy,lr\n"
          ],
          "name": "stdout"
        },
        {
          "output_type": "stream",
          "text": [
            "WARNING:tensorflow:Learning rate reduction is conditioned on metric `val_loss` which is not available. Available metrics are: loss,accuracy,lr\n"
          ],
          "name": "stderr"
        },
        {
          "output_type": "stream",
          "text": [
            "WARNING:tensorflow:Can save best model only with val_accuracy available, skipping.\n"
          ],
          "name": "stdout"
        },
        {
          "output_type": "stream",
          "text": [
            "WARNING:tensorflow:Can save best model only with val_accuracy available, skipping.\n"
          ],
          "name": "stderr"
        },
        {
          "output_type": "stream",
          "text": [
            "Epoch 2/15\n",
            "157/157 [==============================] - 18s 116ms/step - loss: 0.0515 - accuracy: 0.9830\n",
            "WARNING:tensorflow:Learning rate reduction is conditioned on metric `val_loss` which is not available. Available metrics are: loss,accuracy,lr\n"
          ],
          "name": "stdout"
        },
        {
          "output_type": "stream",
          "text": [
            "WARNING:tensorflow:Learning rate reduction is conditioned on metric `val_loss` which is not available. Available metrics are: loss,accuracy,lr\n"
          ],
          "name": "stderr"
        },
        {
          "output_type": "stream",
          "text": [
            "WARNING:tensorflow:Can save best model only with val_accuracy available, skipping.\n"
          ],
          "name": "stdout"
        },
        {
          "output_type": "stream",
          "text": [
            "WARNING:tensorflow:Can save best model only with val_accuracy available, skipping.\n"
          ],
          "name": "stderr"
        },
        {
          "output_type": "stream",
          "text": [
            "Epoch 3/15\n",
            "157/157 [==============================] - 19s 118ms/step - loss: 0.0763 - accuracy: 0.9761\n",
            "WARNING:tensorflow:Learning rate reduction is conditioned on metric `val_loss` which is not available. Available metrics are: loss,accuracy,lr\n"
          ],
          "name": "stdout"
        },
        {
          "output_type": "stream",
          "text": [
            "WARNING:tensorflow:Learning rate reduction is conditioned on metric `val_loss` which is not available. Available metrics are: loss,accuracy,lr\n"
          ],
          "name": "stderr"
        },
        {
          "output_type": "stream",
          "text": [
            "WARNING:tensorflow:Can save best model only with val_accuracy available, skipping.\n"
          ],
          "name": "stdout"
        },
        {
          "output_type": "stream",
          "text": [
            "WARNING:tensorflow:Can save best model only with val_accuracy available, skipping.\n"
          ],
          "name": "stderr"
        },
        {
          "output_type": "stream",
          "text": [
            "Epoch 4/15\n",
            "157/157 [==============================] - 19s 119ms/step - loss: 0.0471 - accuracy: 0.9851\n",
            "WARNING:tensorflow:Learning rate reduction is conditioned on metric `val_loss` which is not available. Available metrics are: loss,accuracy,lr\n"
          ],
          "name": "stdout"
        },
        {
          "output_type": "stream",
          "text": [
            "WARNING:tensorflow:Learning rate reduction is conditioned on metric `val_loss` which is not available. Available metrics are: loss,accuracy,lr\n"
          ],
          "name": "stderr"
        },
        {
          "output_type": "stream",
          "text": [
            "WARNING:tensorflow:Can save best model only with val_accuracy available, skipping.\n"
          ],
          "name": "stdout"
        },
        {
          "output_type": "stream",
          "text": [
            "WARNING:tensorflow:Can save best model only with val_accuracy available, skipping.\n"
          ],
          "name": "stderr"
        },
        {
          "output_type": "stream",
          "text": [
            "Epoch 5/15\n",
            "157/157 [==============================] - 18s 118ms/step - loss: 0.0530 - accuracy: 0.9844\n",
            "WARNING:tensorflow:Learning rate reduction is conditioned on metric `val_loss` which is not available. Available metrics are: loss,accuracy,lr\n"
          ],
          "name": "stdout"
        },
        {
          "output_type": "stream",
          "text": [
            "WARNING:tensorflow:Learning rate reduction is conditioned on metric `val_loss` which is not available. Available metrics are: loss,accuracy,lr\n"
          ],
          "name": "stderr"
        },
        {
          "output_type": "stream",
          "text": [
            "WARNING:tensorflow:Can save best model only with val_accuracy available, skipping.\n"
          ],
          "name": "stdout"
        },
        {
          "output_type": "stream",
          "text": [
            "WARNING:tensorflow:Can save best model only with val_accuracy available, skipping.\n"
          ],
          "name": "stderr"
        },
        {
          "output_type": "stream",
          "text": [
            "Epoch 6/15\n",
            "157/157 [==============================] - 18s 117ms/step - loss: 0.0426 - accuracy: 0.9858\n",
            "WARNING:tensorflow:Learning rate reduction is conditioned on metric `val_loss` which is not available. Available metrics are: loss,accuracy,lr\n"
          ],
          "name": "stdout"
        },
        {
          "output_type": "stream",
          "text": [
            "WARNING:tensorflow:Learning rate reduction is conditioned on metric `val_loss` which is not available. Available metrics are: loss,accuracy,lr\n"
          ],
          "name": "stderr"
        },
        {
          "output_type": "stream",
          "text": [
            "WARNING:tensorflow:Can save best model only with val_accuracy available, skipping.\n"
          ],
          "name": "stdout"
        },
        {
          "output_type": "stream",
          "text": [
            "WARNING:tensorflow:Can save best model only with val_accuracy available, skipping.\n"
          ],
          "name": "stderr"
        },
        {
          "output_type": "stream",
          "text": [
            "Epoch 7/15\n",
            "157/157 [==============================] - 18s 117ms/step - loss: 0.0928 - accuracy: 0.9712\n",
            "WARNING:tensorflow:Learning rate reduction is conditioned on metric `val_loss` which is not available. Available metrics are: loss,accuracy,lr\n"
          ],
          "name": "stdout"
        },
        {
          "output_type": "stream",
          "text": [
            "WARNING:tensorflow:Learning rate reduction is conditioned on metric `val_loss` which is not available. Available metrics are: loss,accuracy,lr\n"
          ],
          "name": "stderr"
        },
        {
          "output_type": "stream",
          "text": [
            "WARNING:tensorflow:Can save best model only with val_accuracy available, skipping.\n"
          ],
          "name": "stdout"
        },
        {
          "output_type": "stream",
          "text": [
            "WARNING:tensorflow:Can save best model only with val_accuracy available, skipping.\n"
          ],
          "name": "stderr"
        },
        {
          "output_type": "stream",
          "text": [
            "Epoch 8/15\n",
            "157/157 [==============================] - 18s 118ms/step - loss: 0.0359 - accuracy: 0.9883\n",
            "WARNING:tensorflow:Learning rate reduction is conditioned on metric `val_loss` which is not available. Available metrics are: loss,accuracy,lr\n"
          ],
          "name": "stdout"
        },
        {
          "output_type": "stream",
          "text": [
            "WARNING:tensorflow:Learning rate reduction is conditioned on metric `val_loss` which is not available. Available metrics are: loss,accuracy,lr\n"
          ],
          "name": "stderr"
        },
        {
          "output_type": "stream",
          "text": [
            "WARNING:tensorflow:Can save best model only with val_accuracy available, skipping.\n"
          ],
          "name": "stdout"
        },
        {
          "output_type": "stream",
          "text": [
            "WARNING:tensorflow:Can save best model only with val_accuracy available, skipping.\n"
          ],
          "name": "stderr"
        },
        {
          "output_type": "stream",
          "text": [
            "Epoch 9/15\n",
            "157/157 [==============================] - 19s 118ms/step - loss: 0.0475 - accuracy: 0.9869\n",
            "WARNING:tensorflow:Learning rate reduction is conditioned on metric `val_loss` which is not available. Available metrics are: loss,accuracy,lr\n"
          ],
          "name": "stdout"
        },
        {
          "output_type": "stream",
          "text": [
            "WARNING:tensorflow:Learning rate reduction is conditioned on metric `val_loss` which is not available. Available metrics are: loss,accuracy,lr\n"
          ],
          "name": "stderr"
        },
        {
          "output_type": "stream",
          "text": [
            "WARNING:tensorflow:Can save best model only with val_accuracy available, skipping.\n"
          ],
          "name": "stdout"
        },
        {
          "output_type": "stream",
          "text": [
            "WARNING:tensorflow:Can save best model only with val_accuracy available, skipping.\n"
          ],
          "name": "stderr"
        },
        {
          "output_type": "stream",
          "text": [
            "Epoch 10/15\n",
            "157/157 [==============================] - 19s 119ms/step - loss: 0.1050 - accuracy: 0.9678\n",
            "WARNING:tensorflow:Learning rate reduction is conditioned on metric `val_loss` which is not available. Available metrics are: loss,accuracy,lr\n"
          ],
          "name": "stdout"
        },
        {
          "output_type": "stream",
          "text": [
            "WARNING:tensorflow:Learning rate reduction is conditioned on metric `val_loss` which is not available. Available metrics are: loss,accuracy,lr\n"
          ],
          "name": "stderr"
        },
        {
          "output_type": "stream",
          "text": [
            "WARNING:tensorflow:Can save best model only with val_accuracy available, skipping.\n"
          ],
          "name": "stdout"
        },
        {
          "output_type": "stream",
          "text": [
            "WARNING:tensorflow:Can save best model only with val_accuracy available, skipping.\n"
          ],
          "name": "stderr"
        },
        {
          "output_type": "stream",
          "text": [
            "Epoch 11/15\n",
            "157/157 [==============================] - 19s 119ms/step - loss: 0.0569 - accuracy: 0.9815\n",
            "WARNING:tensorflow:Learning rate reduction is conditioned on metric `val_loss` which is not available. Available metrics are: loss,accuracy,lr\n"
          ],
          "name": "stdout"
        },
        {
          "output_type": "stream",
          "text": [
            "WARNING:tensorflow:Learning rate reduction is conditioned on metric `val_loss` which is not available. Available metrics are: loss,accuracy,lr\n"
          ],
          "name": "stderr"
        },
        {
          "output_type": "stream",
          "text": [
            "WARNING:tensorflow:Can save best model only with val_accuracy available, skipping.\n"
          ],
          "name": "stdout"
        },
        {
          "output_type": "stream",
          "text": [
            "WARNING:tensorflow:Can save best model only with val_accuracy available, skipping.\n"
          ],
          "name": "stderr"
        },
        {
          "output_type": "stream",
          "text": [
            "Epoch 12/15\n",
            "157/157 [==============================] - 19s 119ms/step - loss: 0.0330 - accuracy: 0.9894\n",
            "WARNING:tensorflow:Learning rate reduction is conditioned on metric `val_loss` which is not available. Available metrics are: loss,accuracy,lr\n"
          ],
          "name": "stdout"
        },
        {
          "output_type": "stream",
          "text": [
            "WARNING:tensorflow:Learning rate reduction is conditioned on metric `val_loss` which is not available. Available metrics are: loss,accuracy,lr\n"
          ],
          "name": "stderr"
        },
        {
          "output_type": "stream",
          "text": [
            "WARNING:tensorflow:Can save best model only with val_accuracy available, skipping.\n"
          ],
          "name": "stdout"
        },
        {
          "output_type": "stream",
          "text": [
            "WARNING:tensorflow:Can save best model only with val_accuracy available, skipping.\n"
          ],
          "name": "stderr"
        },
        {
          "output_type": "stream",
          "text": [
            "Epoch 13/15\n",
            "157/157 [==============================] - 18s 118ms/step - loss: 0.0355 - accuracy: 0.9898\n",
            "WARNING:tensorflow:Learning rate reduction is conditioned on metric `val_loss` which is not available. Available metrics are: loss,accuracy,lr\n"
          ],
          "name": "stdout"
        },
        {
          "output_type": "stream",
          "text": [
            "WARNING:tensorflow:Learning rate reduction is conditioned on metric `val_loss` which is not available. Available metrics are: loss,accuracy,lr\n"
          ],
          "name": "stderr"
        },
        {
          "output_type": "stream",
          "text": [
            "WARNING:tensorflow:Can save best model only with val_accuracy available, skipping.\n"
          ],
          "name": "stdout"
        },
        {
          "output_type": "stream",
          "text": [
            "WARNING:tensorflow:Can save best model only with val_accuracy available, skipping.\n"
          ],
          "name": "stderr"
        },
        {
          "output_type": "stream",
          "text": [
            "Epoch 14/15\n",
            "157/157 [==============================] - 18s 118ms/step - loss: 0.0591 - accuracy: 0.9824\n",
            "WARNING:tensorflow:Learning rate reduction is conditioned on metric `val_loss` which is not available. Available metrics are: loss,accuracy,lr\n"
          ],
          "name": "stdout"
        },
        {
          "output_type": "stream",
          "text": [
            "WARNING:tensorflow:Learning rate reduction is conditioned on metric `val_loss` which is not available. Available metrics are: loss,accuracy,lr\n"
          ],
          "name": "stderr"
        },
        {
          "output_type": "stream",
          "text": [
            "WARNING:tensorflow:Can save best model only with val_accuracy available, skipping.\n"
          ],
          "name": "stdout"
        },
        {
          "output_type": "stream",
          "text": [
            "WARNING:tensorflow:Can save best model only with val_accuracy available, skipping.\n"
          ],
          "name": "stderr"
        },
        {
          "output_type": "stream",
          "text": [
            "Epoch 15/15\n",
            "157/157 [==============================] - 18s 118ms/step - loss: 0.0316 - accuracy: 0.9898\n",
            "WARNING:tensorflow:Learning rate reduction is conditioned on metric `val_loss` which is not available. Available metrics are: loss,accuracy,lr\n"
          ],
          "name": "stdout"
        },
        {
          "output_type": "stream",
          "text": [
            "WARNING:tensorflow:Learning rate reduction is conditioned on metric `val_loss` which is not available. Available metrics are: loss,accuracy,lr\n"
          ],
          "name": "stderr"
        },
        {
          "output_type": "stream",
          "text": [
            "WARNING:tensorflow:Can save best model only with val_accuracy available, skipping.\n"
          ],
          "name": "stdout"
        },
        {
          "output_type": "stream",
          "text": [
            "WARNING:tensorflow:Can save best model only with val_accuracy available, skipping.\n"
          ],
          "name": "stderr"
        },
        {
          "output_type": "execute_result",
          "data": {
            "text/plain": [
              "<tensorflow.python.keras.callbacks.History at 0x7fe01f2179d0>"
            ]
          },
          "metadata": {
            "tags": []
          },
          "execution_count": 59
        }
      ]
    },
    {
      "cell_type": "code",
      "metadata": {
        "execution": {
          "iopub.status.busy": "2021-05-29T15:25:07.252342Z",
          "iopub.execute_input": "2021-05-29T15:25:07.252784Z",
          "iopub.status.idle": "2021-05-29T15:25:07.260127Z",
          "shell.execute_reply.started": "2021-05-29T15:25:07.252718Z",
          "shell.execute_reply": "2021-05-29T15:25:07.259085Z"
        },
        "trusted": true,
        "id": "ZslvVBjn1eh3"
      },
      "source": [
        "def classify(sentence):\n",
        "#   sentence = process_review(sentence)\n",
        "    sentence = clean_text(sentence)\n",
        "    sequence = [char2idx[char] for char in sentence]\n",
        "    sequence = pad_sequences([sequence], maxlen = X_train.shape[1], padding='post', value=0)\n",
        "\n",
        "    pred = model.predict(sequence)[0]\n",
        "    #print(np.argmax(pred, 0).astype('int'), np.max(pred))\n",
        "    return np.argmax(pred, 0).astype('int')\n"
      ],
      "execution_count": null,
      "outputs": []
    },
    {
      "cell_type": "code",
      "metadata": {
        "execution": {
          "iopub.status.busy": "2021-05-29T15:25:07.261359Z",
          "iopub.execute_input": "2021-05-29T15:25:07.261812Z",
          "iopub.status.idle": "2021-05-29T15:25:09.137332Z",
          "shell.execute_reply.started": "2021-05-29T15:25:07.261779Z",
          "shell.execute_reply": "2021-05-29T15:25:09.136231Z"
        },
        "trusted": true,
        "colab": {
          "base_uri": "https://localhost:8080/"
        },
        "id": "R2jnCM6s1eh3",
        "outputId": "716a1f0c-84b4-4737-a4d2-3b7be03b6ceb"
      },
      "source": [
        "x = df.iloc[0]['data']\n",
        "print(df.iloc[0])\n",
        "classify(df.iloc[0]['data'])"
      ],
      "execution_count": null,
      "outputs": [
        {
          "output_type": "stream",
          "text": [
            "labels                                                        8\n",
            "data          أَنا الفقير وباللَه العظيم غني # لئن فقدتك في ...\n",
            "clean_data    أَنا الفقير وباللَه العظيم غني # لئن فقدتك في ...\n",
            "Name: 0, dtype: object\n"
          ],
          "name": "stdout"
        },
        {
          "output_type": "execute_result",
          "data": {
            "text/plain": [
              "8"
            ]
          },
          "metadata": {
            "tags": []
          },
          "execution_count": 61
        }
      ]
    },
    {
      "cell_type": "code",
      "metadata": {
        "execution": {
          "iopub.status.busy": "2021-05-29T15:25:09.138643Z",
          "iopub.execute_input": "2021-05-29T15:25:09.139102Z",
          "iopub.status.idle": "2021-05-29T15:25:09.183011Z",
          "shell.execute_reply.started": "2021-05-29T15:25:09.139059Z",
          "shell.execute_reply": "2021-05-29T15:25:09.182039Z"
        },
        "trusted": true,
        "colab": {
          "base_uri": "https://localhost:8080/",
          "height": 195
        },
        "id": "BQQgLsC21eh4",
        "outputId": "fc8a0f64-a9bf-4313-9a20-09e19f668ca0"
      },
      "source": [
        "test_df = pd.read_csv('/content/drive/MyDrive/data/test.csv')\n",
        "test_df.head()"
      ],
      "execution_count": null,
      "outputs": [
        {
          "output_type": "execute_result",
          "data": {
            "text/html": [
              "<div>\n",
              "<style scoped>\n",
              "    .dataframe tbody tr th:only-of-type {\n",
              "        vertical-align: middle;\n",
              "    }\n",
              "\n",
              "    .dataframe tbody tr th {\n",
              "        vertical-align: top;\n",
              "    }\n",
              "\n",
              "    .dataframe thead th {\n",
              "        text-align: right;\n",
              "    }\n",
              "</style>\n",
              "<table border=\"1\" class=\"dataframe\">\n",
              "  <thead>\n",
              "    <tr style=\"text-align: right;\">\n",
              "      <th></th>\n",
              "      <th>id</th>\n",
              "      <th>data</th>\n",
              "    </tr>\n",
              "  </thead>\n",
              "  <tbody>\n",
              "    <tr>\n",
              "      <th>0</th>\n",
              "      <td>0</td>\n",
              "      <td>بلوعة قذف للنية القذف # أخي سنادي معيني قوتي جدتي</td>\n",
              "    </tr>\n",
              "    <tr>\n",
              "      <th>1</th>\n",
              "      <td>1</td>\n",
              "      <td>وعَلِيقِي عليه أَرْخَصُ مِنْ ما # لِ المَوارِي...</td>\n",
              "    </tr>\n",
              "    <tr>\n",
              "      <th>2</th>\n",
              "      <td>2</td>\n",
              "      <td>تنزه في الثغر مبني في # محل العذيب وفي بارق</td>\n",
              "    </tr>\n",
              "    <tr>\n",
              "      <th>3</th>\n",
              "      <td>3</td>\n",
              "      <td>قديرٌ ذو قُدورٍ راسياتٍ # تُقابلُها جِفانٌ كال...</td>\n",
              "    </tr>\n",
              "    <tr>\n",
              "      <th>4</th>\n",
              "      <td>4</td>\n",
              "      <td>وبانبي الهدى وافتك من بعد # مديحة من كثير العي...</td>\n",
              "    </tr>\n",
              "  </tbody>\n",
              "</table>\n",
              "</div>"
            ],
            "text/plain": [
              "   id                                               data\n",
              "0   0  بلوعة قذف للنية القذف # أخي سنادي معيني قوتي جدتي\n",
              "1   1  وعَلِيقِي عليه أَرْخَصُ مِنْ ما # لِ المَوارِي...\n",
              "2   2        تنزه في الثغر مبني في # محل العذيب وفي بارق\n",
              "3   3  قديرٌ ذو قُدورٍ راسياتٍ # تُقابلُها جِفانٌ كال...\n",
              "4   4  وبانبي الهدى وافتك من بعد # مديحة من كثير العي..."
            ]
          },
          "metadata": {
            "tags": []
          },
          "execution_count": 62
        }
      ]
    },
    {
      "cell_type": "code",
      "metadata": {
        "execution": {
          "iopub.status.busy": "2021-05-29T15:25:09.184331Z",
          "iopub.execute_input": "2021-05-29T15:25:09.184645Z",
          "iopub.status.idle": "2021-05-29T15:28:10.035412Z",
          "shell.execute_reply.started": "2021-05-29T15:25:09.184611Z",
          "shell.execute_reply": "2021-05-29T15:28:10.034167Z"
        },
        "trusted": true,
        "id": "CDwVqFt21eh4"
      },
      "source": [
        "test_df['labels'] = test_df['data'].apply(classify)"
      ],
      "execution_count": null,
      "outputs": []
    },
    {
      "cell_type": "code",
      "metadata": {
        "execution": {
          "iopub.status.busy": "2021-05-29T15:28:10.036839Z",
          "iopub.execute_input": "2021-05-29T15:28:10.037147Z",
          "iopub.status.idle": "2021-05-29T15:28:10.048470Z",
          "shell.execute_reply.started": "2021-05-29T15:28:10.037119Z",
          "shell.execute_reply": "2021-05-29T15:28:10.047329Z"
        },
        "trusted": true,
        "colab": {
          "base_uri": "https://localhost:8080/",
          "height": 195
        },
        "id": "GwS2WXyC1eh5",
        "outputId": "1ccd01d6-b7d6-41f3-fb63-5fdd63e5b77f"
      },
      "source": [
        "test_df.head()"
      ],
      "execution_count": null,
      "outputs": [
        {
          "output_type": "execute_result",
          "data": {
            "text/html": [
              "<div>\n",
              "<style scoped>\n",
              "    .dataframe tbody tr th:only-of-type {\n",
              "        vertical-align: middle;\n",
              "    }\n",
              "\n",
              "    .dataframe tbody tr th {\n",
              "        vertical-align: top;\n",
              "    }\n",
              "\n",
              "    .dataframe thead th {\n",
              "        text-align: right;\n",
              "    }\n",
              "</style>\n",
              "<table border=\"1\" class=\"dataframe\">\n",
              "  <thead>\n",
              "    <tr style=\"text-align: right;\">\n",
              "      <th></th>\n",
              "      <th>id</th>\n",
              "      <th>data</th>\n",
              "      <th>labels</th>\n",
              "    </tr>\n",
              "  </thead>\n",
              "  <tbody>\n",
              "    <tr>\n",
              "      <th>0</th>\n",
              "      <td>0</td>\n",
              "      <td>بلوعة قذف للنية القذف # أخي سنادي معيني قوتي جدتي</td>\n",
              "      <td>8</td>\n",
              "    </tr>\n",
              "    <tr>\n",
              "      <th>1</th>\n",
              "      <td>1</td>\n",
              "      <td>وعَلِيقِي عليه أَرْخَصُ مِنْ ما # لِ المَوارِي...</td>\n",
              "      <td>9</td>\n",
              "    </tr>\n",
              "    <tr>\n",
              "      <th>2</th>\n",
              "      <td>2</td>\n",
              "      <td>تنزه في الثغر مبني في # محل العذيب وفي بارق</td>\n",
              "      <td>0</td>\n",
              "    </tr>\n",
              "    <tr>\n",
              "      <th>3</th>\n",
              "      <td>3</td>\n",
              "      <td>قديرٌ ذو قُدورٍ راسياتٍ # تُقابلُها جِفانٌ كال...</td>\n",
              "      <td>11</td>\n",
              "    </tr>\n",
              "    <tr>\n",
              "      <th>4</th>\n",
              "      <td>4</td>\n",
              "      <td>وبانبي الهدى وافتك من بعد # مديحة من كثير العي...</td>\n",
              "      <td>8</td>\n",
              "    </tr>\n",
              "  </tbody>\n",
              "</table>\n",
              "</div>"
            ],
            "text/plain": [
              "   id                                               data  labels\n",
              "0   0  بلوعة قذف للنية القذف # أخي سنادي معيني قوتي جدتي       8\n",
              "1   1  وعَلِيقِي عليه أَرْخَصُ مِنْ ما # لِ المَوارِي...       9\n",
              "2   2        تنزه في الثغر مبني في # محل العذيب وفي بارق       0\n",
              "3   3  قديرٌ ذو قُدورٍ راسياتٍ # تُقابلُها جِفانٌ كال...      11\n",
              "4   4  وبانبي الهدى وافتك من بعد # مديحة من كثير العي...       8"
            ]
          },
          "metadata": {
            "tags": []
          },
          "execution_count": 64
        }
      ]
    },
    {
      "cell_type": "code",
      "metadata": {
        "execution": {
          "iopub.status.busy": "2021-05-29T15:28:10.049822Z",
          "iopub.execute_input": "2021-05-29T15:28:10.050117Z",
          "iopub.status.idle": "2021-05-29T15:28:10.073756Z",
          "shell.execute_reply.started": "2021-05-29T15:28:10.050090Z",
          "shell.execute_reply": "2021-05-29T15:28:10.072464Z"
        },
        "trusted": true,
        "id": "9lHltYNG1eh5"
      },
      "source": [
        "sample_submission = test_df.drop(columns=['data'])\n",
        "sample_submission.to_csv(\"/content/drive/MyDrive/data/multi_submission.csv\",index=False, encoding='utf-8-sig')"
      ],
      "execution_count": null,
      "outputs": []
    },
    {
      "cell_type": "code",
      "metadata": {
        "colab": {
          "base_uri": "https://localhost:8080/"
        },
        "id": "3tVPifuK1eh5",
        "outputId": "b87ea876-68f5-45ba-af5b-dbe69396ddce"
      },
      "source": [
        "#!mkdir -p saved_model\n",
        "model.save('/content/drive/MyDrive/data/saved_model/model_without_dropout')"
      ],
      "execution_count": null,
      "outputs": [
        {
          "output_type": "stream",
          "text": [
            "WARNING:absl:Found untraced functions such as gru_cell_19_layer_call_fn, gru_cell_19_layer_call_and_return_conditional_losses, gru_cell_20_layer_call_fn, gru_cell_20_layer_call_and_return_conditional_losses, gru_cell_22_layer_call_fn while saving (showing 5 of 30). These functions will not be directly callable after loading.\n"
          ],
          "name": "stderr"
        },
        {
          "output_type": "stream",
          "text": [
            "INFO:tensorflow:Assets written to: /content/drive/MyDrive/data/saved_model/model_without_dropout/assets\n"
          ],
          "name": "stdout"
        },
        {
          "output_type": "stream",
          "text": [
            "INFO:tensorflow:Assets written to: /content/drive/MyDrive/data/saved_model/model_without_dropout/assets\n"
          ],
          "name": "stderr"
        }
      ]
    },
    {
      "cell_type": "code",
      "metadata": {
        "colab": {
          "base_uri": "https://localhost:8080/"
        },
        "id": "AlOFALABKwdb",
        "outputId": "bc6bf94b-7af5-4d33-ec34-66b2dbe88fa7"
      },
      "source": [
        "new_model = tf.keras.models.load_model('/content/drive/MyDrive/data/saved_model/my_model')\n",
        "\n",
        "# Check its architecture\n",
        "new_model.summary()\n"
      ],
      "execution_count": null,
      "outputs": [
        {
          "output_type": "stream",
          "text": [
            "Model: \"sequential\"\n",
            "_________________________________________________________________\n",
            "Layer (type)                 Output Shape              Param #   \n",
            "=================================================================\n",
            "embedding (Embedding)        (None, 100, 256)          12032     \n",
            "_________________________________________________________________\n",
            "bidirectional (Bidirectional (None, 100, 512)          789504    \n",
            "_________________________________________________________________\n",
            "bidirectional_1 (Bidirection (None, 100, 512)          1182720   \n",
            "_________________________________________________________________\n",
            "bidirectional_2 (Bidirection (None, 512)               1182720   \n",
            "_________________________________________________________________\n",
            "dense (Dense)                (None, 128)               65664     \n",
            "_________________________________________________________________\n",
            "dropout (Dropout)            (None, 128)               0         \n",
            "_________________________________________________________________\n",
            "dense_1 (Dense)              (None, 14)                1806      \n",
            "=================================================================\n",
            "Total params: 3,234,446\n",
            "Trainable params: 3,234,446\n",
            "Non-trainable params: 0\n",
            "_________________________________________________________________\n"
          ],
          "name": "stdout"
        }
      ]
    },
    {
      "cell_type": "code",
      "metadata": {
        "id": "Z6kftSMjLFT_"
      },
      "source": [
        ""
      ],
      "execution_count": null,
      "outputs": []
    }
  ]
}